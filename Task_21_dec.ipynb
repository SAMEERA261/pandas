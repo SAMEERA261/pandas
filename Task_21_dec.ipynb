{
 "cells": [
  {
   "cell_type": "code",
   "execution_count": 97,
   "id": "1b42db49",
   "metadata": {},
   "outputs": [],
   "source": [
    "import numpy as np,pandas as pd,seaborn as sns"
   ]
  },
  {
   "cell_type": "code",
   "execution_count": 98,
   "id": "e937ab62",
   "metadata": {},
   "outputs": [],
   "source": [
    "import sklearn"
   ]
  },
  {
   "cell_type": "code",
   "execution_count": 119,
   "id": "6c96caf2",
   "metadata": {},
   "outputs": [
    {
     "data": {
      "text/html": [
       "<div>\n",
       "<style scoped>\n",
       "    .dataframe tbody tr th:only-of-type {\n",
       "        vertical-align: middle;\n",
       "    }\n",
       "\n",
       "    .dataframe tbody tr th {\n",
       "        vertical-align: top;\n",
       "    }\n",
       "\n",
       "    .dataframe thead th {\n",
       "        text-align: right;\n",
       "    }\n",
       "</style>\n",
       "<table border=\"1\" class=\"dataframe\">\n",
       "  <thead>\n",
       "    <tr style=\"text-align: right;\">\n",
       "      <th></th>\n",
       "      <th>Unnamed: 0</th>\n",
       "      <th>Date</th>\n",
       "      <th>Product</th>\n",
       "      <th>Revenue</th>\n",
       "      <th>Quantity</th>\n",
       "    </tr>\n",
       "  </thead>\n",
       "  <tbody>\n",
       "    <tr>\n",
       "      <th>0</th>\n",
       "      <td>0</td>\n",
       "      <td>01-01-2023</td>\n",
       "      <td>A</td>\n",
       "      <td>221</td>\n",
       "      <td>3</td>\n",
       "    </tr>\n",
       "    <tr>\n",
       "      <th>1</th>\n",
       "      <td>1</td>\n",
       "      <td>01-01-2023</td>\n",
       "      <td>B</td>\n",
       "      <td>111</td>\n",
       "      <td>8</td>\n",
       "    </tr>\n",
       "    <tr>\n",
       "      <th>2</th>\n",
       "      <td>2</td>\n",
       "      <td>02-01-2023</td>\n",
       "      <td>B</td>\n",
       "      <td>171</td>\n",
       "      <td>11</td>\n",
       "    </tr>\n",
       "    <tr>\n",
       "      <th>3</th>\n",
       "      <td>3</td>\n",
       "      <td>02-01-2023</td>\n",
       "      <td>A</td>\n",
       "      <td>141</td>\n",
       "      <td>15</td>\n",
       "    </tr>\n",
       "    <tr>\n",
       "      <th>4</th>\n",
       "      <td>4</td>\n",
       "      <td>01-02-2023</td>\n",
       "      <td>A</td>\n",
       "      <td>75</td>\n",
       "      <td>4</td>\n",
       "    </tr>\n",
       "    <tr>\n",
       "      <th>5</th>\n",
       "      <td>5</td>\n",
       "      <td>01-02-2023</td>\n",
       "      <td>B</td>\n",
       "      <td>90</td>\n",
       "      <td>12</td>\n",
       "    </tr>\n",
       "    <tr>\n",
       "      <th>6</th>\n",
       "      <td>6</td>\n",
       "      <td>02-02-2023</td>\n",
       "      <td>A</td>\n",
       "      <td>96</td>\n",
       "      <td>17</td>\n",
       "    </tr>\n",
       "    <tr>\n",
       "      <th>7</th>\n",
       "      <td>7</td>\n",
       "      <td>02-02-2023</td>\n",
       "      <td>B</td>\n",
       "      <td>170</td>\n",
       "      <td>10</td>\n",
       "    </tr>\n",
       "    <tr>\n",
       "      <th>8</th>\n",
       "      <td>8</td>\n",
       "      <td>01-03-2023</td>\n",
       "      <td>B</td>\n",
       "      <td>200</td>\n",
       "      <td>19</td>\n",
       "    </tr>\n",
       "    <tr>\n",
       "      <th>9</th>\n",
       "      <td>9</td>\n",
       "      <td>01-03-2023</td>\n",
       "      <td>A</td>\n",
       "      <td>120</td>\n",
       "      <td>10</td>\n",
       "    </tr>\n",
       "    <tr>\n",
       "      <th>10</th>\n",
       "      <td>10</td>\n",
       "      <td>02-03-2023</td>\n",
       "      <td>A</td>\n",
       "      <td>121</td>\n",
       "      <td>12</td>\n",
       "    </tr>\n",
       "    <tr>\n",
       "      <th>11</th>\n",
       "      <td>11</td>\n",
       "      <td>02-03-2023</td>\n",
       "      <td>B</td>\n",
       "      <td>150</td>\n",
       "      <td>5</td>\n",
       "    </tr>\n",
       "  </tbody>\n",
       "</table>\n",
       "</div>"
      ],
      "text/plain": [
       "    Unnamed: 0        Date Product  Revenue  Quantity\n",
       "0            0  01-01-2023       A      221         3\n",
       "1            1  01-01-2023       B      111         8\n",
       "2            2  02-01-2023       B      171        11\n",
       "3            3  02-01-2023       A      141        15\n",
       "4            4  01-02-2023       A       75         4\n",
       "5            5  01-02-2023       B       90        12\n",
       "6            6  02-02-2023       A       96        17\n",
       "7            7  02-02-2023       B      170        10\n",
       "8            8  01-03-2023       B      200        19\n",
       "9            9  01-03-2023       A      120        10\n",
       "10          10  02-03-2023       A      121        12\n",
       "11          11  02-03-2023       B      150         5"
      ]
     },
     "execution_count": 119,
     "metadata": {},
     "output_type": "execute_result"
    }
   ],
   "source": [
    "gbt=pd.read_csv(r'C:\\Users\\Sam\\Downloads\\groupbyExcercise.csv')\n",
    "gbt"
   ]
  },
  {
   "cell_type": "code",
   "execution_count": 120,
   "id": "5673a0bb",
   "metadata": {},
   "outputs": [],
   "source": [
    "gbt.drop(columns=['Unnamed: 0'],inplace=True)"
   ]
  },
  {
   "cell_type": "markdown",
   "id": "cbd478c0",
   "metadata": {},
   "source": [
    "### When we are not passing index = False, an extra index column “Unnamed:0 “ is created"
   ]
  },
  {
   "cell_type": "code",
   "execution_count": 121,
   "id": "9805b860",
   "metadata": {},
   "outputs": [
    {
     "data": {
      "text/html": [
       "<div>\n",
       "<style scoped>\n",
       "    .dataframe tbody tr th:only-of-type {\n",
       "        vertical-align: middle;\n",
       "    }\n",
       "\n",
       "    .dataframe tbody tr th {\n",
       "        vertical-align: top;\n",
       "    }\n",
       "\n",
       "    .dataframe thead th {\n",
       "        text-align: right;\n",
       "    }\n",
       "</style>\n",
       "<table border=\"1\" class=\"dataframe\">\n",
       "  <thead>\n",
       "    <tr style=\"text-align: right;\">\n",
       "      <th></th>\n",
       "      <th>Date</th>\n",
       "      <th>Product</th>\n",
       "      <th>Revenue</th>\n",
       "      <th>Quantity</th>\n",
       "    </tr>\n",
       "  </thead>\n",
       "  <tbody>\n",
       "    <tr>\n",
       "      <th>0</th>\n",
       "      <td>01-01-2023</td>\n",
       "      <td>A</td>\n",
       "      <td>221</td>\n",
       "      <td>3</td>\n",
       "    </tr>\n",
       "    <tr>\n",
       "      <th>1</th>\n",
       "      <td>01-01-2023</td>\n",
       "      <td>B</td>\n",
       "      <td>111</td>\n",
       "      <td>8</td>\n",
       "    </tr>\n",
       "    <tr>\n",
       "      <th>2</th>\n",
       "      <td>02-01-2023</td>\n",
       "      <td>B</td>\n",
       "      <td>171</td>\n",
       "      <td>11</td>\n",
       "    </tr>\n",
       "    <tr>\n",
       "      <th>3</th>\n",
       "      <td>02-01-2023</td>\n",
       "      <td>A</td>\n",
       "      <td>141</td>\n",
       "      <td>15</td>\n",
       "    </tr>\n",
       "    <tr>\n",
       "      <th>4</th>\n",
       "      <td>01-02-2023</td>\n",
       "      <td>A</td>\n",
       "      <td>75</td>\n",
       "      <td>4</td>\n",
       "    </tr>\n",
       "    <tr>\n",
       "      <th>5</th>\n",
       "      <td>01-02-2023</td>\n",
       "      <td>B</td>\n",
       "      <td>90</td>\n",
       "      <td>12</td>\n",
       "    </tr>\n",
       "    <tr>\n",
       "      <th>6</th>\n",
       "      <td>02-02-2023</td>\n",
       "      <td>A</td>\n",
       "      <td>96</td>\n",
       "      <td>17</td>\n",
       "    </tr>\n",
       "    <tr>\n",
       "      <th>7</th>\n",
       "      <td>02-02-2023</td>\n",
       "      <td>B</td>\n",
       "      <td>170</td>\n",
       "      <td>10</td>\n",
       "    </tr>\n",
       "    <tr>\n",
       "      <th>8</th>\n",
       "      <td>01-03-2023</td>\n",
       "      <td>B</td>\n",
       "      <td>200</td>\n",
       "      <td>19</td>\n",
       "    </tr>\n",
       "    <tr>\n",
       "      <th>9</th>\n",
       "      <td>01-03-2023</td>\n",
       "      <td>A</td>\n",
       "      <td>120</td>\n",
       "      <td>10</td>\n",
       "    </tr>\n",
       "    <tr>\n",
       "      <th>10</th>\n",
       "      <td>02-03-2023</td>\n",
       "      <td>A</td>\n",
       "      <td>121</td>\n",
       "      <td>12</td>\n",
       "    </tr>\n",
       "    <tr>\n",
       "      <th>11</th>\n",
       "      <td>02-03-2023</td>\n",
       "      <td>B</td>\n",
       "      <td>150</td>\n",
       "      <td>5</td>\n",
       "    </tr>\n",
       "  </tbody>\n",
       "</table>\n",
       "</div>"
      ],
      "text/plain": [
       "          Date Product  Revenue  Quantity\n",
       "0   01-01-2023       A      221         3\n",
       "1   01-01-2023       B      111         8\n",
       "2   02-01-2023       B      171        11\n",
       "3   02-01-2023       A      141        15\n",
       "4   01-02-2023       A       75         4\n",
       "5   01-02-2023       B       90        12\n",
       "6   02-02-2023       A       96        17\n",
       "7   02-02-2023       B      170        10\n",
       "8   01-03-2023       B      200        19\n",
       "9   01-03-2023       A      120        10\n",
       "10  02-03-2023       A      121        12\n",
       "11  02-03-2023       B      150         5"
      ]
     },
     "execution_count": 121,
     "metadata": {},
     "output_type": "execute_result"
    }
   ],
   "source": [
    "gbt"
   ]
  },
  {
   "cell_type": "code",
   "execution_count": 122,
   "id": "eb6a767b",
   "metadata": {},
   "outputs": [
    {
     "name": "stdout",
     "output_type": "stream",
     "text": [
      "<class 'pandas.core.frame.DataFrame'>\n",
      "RangeIndex: 12 entries, 0 to 11\n",
      "Data columns (total 4 columns):\n",
      " #   Column    Non-Null Count  Dtype \n",
      "---  ------    --------------  ----- \n",
      " 0   Date      12 non-null     object\n",
      " 1   Product   12 non-null     object\n",
      " 2   Revenue   12 non-null     int64 \n",
      " 3   Quantity  12 non-null     int64 \n",
      "dtypes: int64(2), object(2)\n",
      "memory usage: 516.0+ bytes\n"
     ]
    }
   ],
   "source": [
    "gbt.info()"
   ]
  },
  {
   "cell_type": "code",
   "execution_count": 123,
   "id": "2e081c95",
   "metadata": {},
   "outputs": [
    {
     "data": {
      "text/plain": [
       "Date         6\n",
       "Product      2\n",
       "Revenue     12\n",
       "Quantity    10\n",
       "dtype: int64"
      ]
     },
     "execution_count": 123,
     "metadata": {},
     "output_type": "execute_result"
    }
   ],
   "source": [
    "gbt.nunique()"
   ]
  },
  {
   "cell_type": "markdown",
   "id": "d2bef598",
   "metadata": {},
   "source": [
    "1. Arrange DataFrame df, focusing on distinct product categories. Explore the data to reveal:\n",
    "### Overall revenue insights"
   ]
  },
  {
   "cell_type": "code",
   "execution_count": 124,
   "id": "0100ca32",
   "metadata": {},
   "outputs": [
    {
     "name": "stdout",
     "output_type": "stream",
     "text": [
      "  Product  Revenue\n",
      "1       B      892\n",
      "0       A      774\n"
     ]
    }
   ],
   "source": [
    "x = gbt.groupby('Product')['Revenue'].sum().reset_index()\n",
    "y= x.sort_values(by='Revenue', ascending=False)\n",
    "print(y)"
   ]
  },
  {
   "cell_type": "markdown",
   "id": "c372de4a",
   "metadata": {},
   "source": [
    "* the overall revenue insights is 774 for product 'A' and 892 for product 'B',by this we can observe that the revenue of product B is greater than product A in the given time period"
   ]
  },
  {
   "cell_type": "markdown",
   "id": "08d02614",
   "metadata": {},
   "source": [
    "### Average revenue patterns"
   ]
  },
  {
   "cell_type": "code",
   "execution_count": 125,
   "id": "dfd1cef4",
   "metadata": {},
   "outputs": [
    {
     "data": {
      "text/plain": [
       "Product\n",
       "A    129.000000\n",
       "B    148.666667\n",
       "Name: Revenue, dtype: float64"
      ]
     },
     "execution_count": 125,
     "metadata": {},
     "output_type": "execute_result"
    }
   ],
   "source": [
    "gbt.groupby(['Product'])['Revenue'].mean()"
   ]
  },
  {
   "cell_type": "markdown",
   "id": "76c87da7",
   "metadata": {},
   "source": [
    "### Peak quantity sold observations"
   ]
  },
  {
   "cell_type": "code",
   "execution_count": 126,
   "id": "cd496548",
   "metadata": {},
   "outputs": [
    {
     "data": {
      "text/plain": [
       "Product\n",
       "A    17\n",
       "B    19\n",
       "Name: Quantity, dtype: int64"
      ]
     },
     "execution_count": 126,
     "metadata": {},
     "output_type": "execute_result"
    }
   ],
   "source": [
    "gbt.groupby(['Product'])['Quantity'].max()"
   ]
  },
  {
   "cell_type": "markdown",
   "id": "ebe62726",
   "metadata": {},
   "source": [
    "### Minimum quantity sold occurrences\n"
   ]
  },
  {
   "cell_type": "code",
   "execution_count": 127,
   "id": "cdeb6177",
   "metadata": {},
   "outputs": [],
   "source": [
    "s=gbt.groupby(['Product'])['Quantity'].min()"
   ]
  },
  {
   "cell_type": "code",
   "execution_count": 128,
   "id": "1e89e6c3",
   "metadata": {},
   "outputs": [
    {
     "data": {
      "text/plain": [
       "Product\n",
       "A    3\n",
       "B    5\n",
       "Name: Quantity, dtype: int64"
      ]
     },
     "execution_count": 128,
     "metadata": {},
     "output_type": "execute_result"
    }
   ],
   "source": [
    "s"
   ]
  },
  {
   "cell_type": "markdown",
   "id": "fb79b96e",
   "metadata": {},
   "source": [
    "2. Aggregate DataFrame df by extracting the month and year from the 'Date' column. Calculate the collective revenue for each unique combination of month and year.\n",
    "\n",
    "### The pd.to_datetime function in pandas is used to convert argument to datetime. In the context of a DataFrame, it's often used to convert a column containing date-like strings or other date-like objects into a pandas datetime object, which allows for convenient datetime operations."
   ]
  },
  {
   "cell_type": "code",
   "execution_count": 137,
   "id": "3d73fc67",
   "metadata": {},
   "outputs": [
    {
     "data": {
      "text/html": [
       "<div>\n",
       "<style scoped>\n",
       "    .dataframe tbody tr th:only-of-type {\n",
       "        vertical-align: middle;\n",
       "    }\n",
       "\n",
       "    .dataframe tbody tr th {\n",
       "        vertical-align: top;\n",
       "    }\n",
       "\n",
       "    .dataframe thead th {\n",
       "        text-align: right;\n",
       "    }\n",
       "</style>\n",
       "<table border=\"1\" class=\"dataframe\">\n",
       "  <thead>\n",
       "    <tr style=\"text-align: right;\">\n",
       "      <th></th>\n",
       "      <th>Date</th>\n",
       "      <th>Month</th>\n",
       "      <th>Year</th>\n",
       "    </tr>\n",
       "  </thead>\n",
       "  <tbody>\n",
       "    <tr>\n",
       "      <th>0</th>\n",
       "      <td>2023-01-01</td>\n",
       "      <td>1</td>\n",
       "      <td>2023</td>\n",
       "    </tr>\n",
       "    <tr>\n",
       "      <th>1</th>\n",
       "      <td>2023-01-01</td>\n",
       "      <td>1</td>\n",
       "      <td>2023</td>\n",
       "    </tr>\n",
       "    <tr>\n",
       "      <th>2</th>\n",
       "      <td>2023-02-01</td>\n",
       "      <td>2</td>\n",
       "      <td>2023</td>\n",
       "    </tr>\n",
       "    <tr>\n",
       "      <th>3</th>\n",
       "      <td>2023-02-01</td>\n",
       "      <td>2</td>\n",
       "      <td>2023</td>\n",
       "    </tr>\n",
       "    <tr>\n",
       "      <th>4</th>\n",
       "      <td>2023-01-02</td>\n",
       "      <td>1</td>\n",
       "      <td>2023</td>\n",
       "    </tr>\n",
       "    <tr>\n",
       "      <th>5</th>\n",
       "      <td>2023-01-02</td>\n",
       "      <td>1</td>\n",
       "      <td>2023</td>\n",
       "    </tr>\n",
       "    <tr>\n",
       "      <th>6</th>\n",
       "      <td>2023-02-02</td>\n",
       "      <td>2</td>\n",
       "      <td>2023</td>\n",
       "    </tr>\n",
       "    <tr>\n",
       "      <th>7</th>\n",
       "      <td>2023-02-02</td>\n",
       "      <td>2</td>\n",
       "      <td>2023</td>\n",
       "    </tr>\n",
       "    <tr>\n",
       "      <th>8</th>\n",
       "      <td>2023-01-03</td>\n",
       "      <td>1</td>\n",
       "      <td>2023</td>\n",
       "    </tr>\n",
       "    <tr>\n",
       "      <th>9</th>\n",
       "      <td>2023-01-03</td>\n",
       "      <td>1</td>\n",
       "      <td>2023</td>\n",
       "    </tr>\n",
       "    <tr>\n",
       "      <th>10</th>\n",
       "      <td>2023-02-03</td>\n",
       "      <td>2</td>\n",
       "      <td>2023</td>\n",
       "    </tr>\n",
       "    <tr>\n",
       "      <th>11</th>\n",
       "      <td>2023-02-03</td>\n",
       "      <td>2</td>\n",
       "      <td>2023</td>\n",
       "    </tr>\n",
       "  </tbody>\n",
       "</table>\n",
       "</div>"
      ],
      "text/plain": [
       "         Date  Month  Year\n",
       "0  2023-01-01      1  2023\n",
       "1  2023-01-01      1  2023\n",
       "2  2023-02-01      2  2023\n",
       "3  2023-02-01      2  2023\n",
       "4  2023-01-02      1  2023\n",
       "5  2023-01-02      1  2023\n",
       "6  2023-02-02      2  2023\n",
       "7  2023-02-02      2  2023\n",
       "8  2023-01-03      1  2023\n",
       "9  2023-01-03      1  2023\n",
       "10 2023-02-03      2  2023\n",
       "11 2023-02-03      2  2023"
      ]
     },
     "execution_count": 137,
     "metadata": {},
     "output_type": "execute_result"
    }
   ],
   "source": [
    "gbt['Date'] = pd.to_datetime(gbt['Date'])\n",
    "gbt['Month'] = gbt['Date'].dt.month\n",
    "gbt['Year'] = gbt['Date'].dt.year\n",
    "gbt[['Date','Month','Year']]"
   ]
  },
  {
   "cell_type": "code",
   "execution_count": 143,
   "id": "8b4a0deb",
   "metadata": {},
   "outputs": [
    {
     "name": "stdout",
     "output_type": "stream",
     "text": [
      "Month  Year\n",
      "1      2023    817\n",
      "2      2023    849\n",
      "Name: Revenue, dtype: int64\n"
     ]
    }
   ],
   "source": [
    "x = gbt.groupby(['Month', 'Year'])['Revenue'].sum()\n",
    "print(x)"
   ]
  },
  {
   "cell_type": "code",
   "execution_count": 158,
   "id": "8c3524b4",
   "metadata": {},
   "outputs": [
    {
     "name": "stdout",
     "output_type": "stream",
     "text": [
      "  MonthYear  Revenue\n",
      "0   2023-01      817\n",
      "1   2023-02      849\n"
     ]
    }
   ],
   "source": [
    "gbt['Date'] = pd.to_datetime(gbt['Date'])\n",
    "gbt['MonthYear'] = gbt['Date'].dt.to_period(\"M\")\n",
    "revenue_by_month_year = gbt.groupby('MonthYear')['Revenue'].sum().reset_index()\n",
    "print(revenue_by_month_year)"
   ]
  },
  {
   "cell_type": "markdown",
   "id": "98a2ab06",
   "metadata": {},
   "source": [
    "3. Group the DataFrame df by the 'Date' column and find the date with the highest total revenue and the date with the highest total quantity sold.\n"
   ]
  },
  {
   "cell_type": "code",
   "execution_count": 159,
   "id": "9c24c0f7",
   "metadata": {},
   "outputs": [
    {
     "data": {
      "text/html": [
       "<div>\n",
       "<style scoped>\n",
       "    .dataframe tbody tr th:only-of-type {\n",
       "        vertical-align: middle;\n",
       "    }\n",
       "\n",
       "    .dataframe tbody tr th {\n",
       "        vertical-align: top;\n",
       "    }\n",
       "\n",
       "    .dataframe thead th {\n",
       "        text-align: right;\n",
       "    }\n",
       "</style>\n",
       "<table border=\"1\" class=\"dataframe\">\n",
       "  <thead>\n",
       "    <tr style=\"text-align: right;\">\n",
       "      <th></th>\n",
       "      <th>Date</th>\n",
       "      <th>Revenue</th>\n",
       "      <th>Quantity</th>\n",
       "    </tr>\n",
       "  </thead>\n",
       "  <tbody>\n",
       "    <tr>\n",
       "      <th>0</th>\n",
       "      <td>2023-01-01</td>\n",
       "      <td>332</td>\n",
       "      <td>11</td>\n",
       "    </tr>\n",
       "    <tr>\n",
       "      <th>1</th>\n",
       "      <td>2023-01-02</td>\n",
       "      <td>165</td>\n",
       "      <td>16</td>\n",
       "    </tr>\n",
       "    <tr>\n",
       "      <th>2</th>\n",
       "      <td>2023-01-03</td>\n",
       "      <td>320</td>\n",
       "      <td>29</td>\n",
       "    </tr>\n",
       "    <tr>\n",
       "      <th>3</th>\n",
       "      <td>2023-02-01</td>\n",
       "      <td>312</td>\n",
       "      <td>26</td>\n",
       "    </tr>\n",
       "    <tr>\n",
       "      <th>4</th>\n",
       "      <td>2023-02-02</td>\n",
       "      <td>266</td>\n",
       "      <td>27</td>\n",
       "    </tr>\n",
       "    <tr>\n",
       "      <th>5</th>\n",
       "      <td>2023-02-03</td>\n",
       "      <td>271</td>\n",
       "      <td>17</td>\n",
       "    </tr>\n",
       "  </tbody>\n",
       "</table>\n",
       "</div>"
      ],
      "text/plain": [
       "        Date  Revenue  Quantity\n",
       "0 2023-01-01      332        11\n",
       "1 2023-01-02      165        16\n",
       "2 2023-01-03      320        29\n",
       "3 2023-02-01      312        26\n",
       "4 2023-02-02      266        27\n",
       "5 2023-02-03      271        17"
      ]
     },
     "execution_count": 159,
     "metadata": {},
     "output_type": "execute_result"
    }
   ],
   "source": [
    "hr= gbt.groupby('Date').agg({'Revenue': 'sum', 'Quantity': 'sum'}).reset_index()\n",
    "hr"
   ]
  },
  {
   "cell_type": "markdown",
   "id": "30e56af2",
   "metadata": {},
   "source": [
    "### reset_index :\n",
    "* the reset_index method in pandas is used to reset the index of a DataFrame. When you perform operations that result in a new DataFrame, the index might not be in the default integer range (0, 1, 2, ...). Using reset_index helps in bringing the DataFrame back to a default integer index and turns the previous index into a regular column."
   ]
  },
  {
   "cell_type": "code",
   "execution_count": 160,
   "id": "bb772f86",
   "metadata": {},
   "outputs": [
    {
     "name": "stdout",
     "output_type": "stream",
     "text": [
      "Date with highest total revenue: 2023-01-01 00:00:00\n"
     ]
    }
   ],
   "source": [
    "max_revenue_date = hr.loc[grouped_by_date['Revenue'].idxmax()]['Date']\n",
    "print(f\"Date with highest total revenue: {max_revenue_date}\")"
   ]
  },
  {
   "cell_type": "markdown",
   "id": "e85c963b",
   "metadata": {},
   "source": [
    "### idxmax():\n",
    "* In pandas, the idxmax() function is used to get the index of the first occurrence of the maximum value in a Series.\n",
    "*  idxmax() is used to find the index of the maximum value in the 'Revenue' and 'Quantity' columns within the grouped DataFrame (hr). Then, loc is used to locate the corresponding 'Date' value for that index.\n"
   ]
  },
  {
   "cell_type": "code",
   "execution_count": 162,
   "id": "7bb33801",
   "metadata": {},
   "outputs": [
    {
     "name": "stdout",
     "output_type": "stream",
     "text": [
      "Date with highest total quantity sold: 2023-01-03 00:00:00\n"
     ]
    }
   ],
   "source": [
    "max_quantity_date = hr.loc[grouped_by_date['Quantity'].idxmax()]['Date']\n",
    "print(f\"Date with highest total quantity sold: {max_quantity_date}\")"
   ]
  },
  {
   "cell_type": "markdown",
   "id": "22fb11ac",
   "metadata": {},
   "source": [
    "4.  Group the Data Frame df by the Date and find products that have a total quantity sold greater than 10 and less than 15 .\n"
   ]
  },
  {
   "cell_type": "code",
   "execution_count": 164,
   "id": "d7d73cda",
   "metadata": {},
   "outputs": [],
   "source": [
    "x = gbt.groupby(['Date', 'Product'])['Quantity'].sum()"
   ]
  },
  {
   "cell_type": "code",
   "execution_count": 165,
   "id": "b19d2986",
   "metadata": {},
   "outputs": [],
   "source": [
    "y = x[(x > 10) & (x < 15)]"
   ]
  },
  {
   "cell_type": "code",
   "execution_count": 166,
   "id": "66990567",
   "metadata": {},
   "outputs": [
    {
     "data": {
      "text/plain": [
       "Date        Product\n",
       "2023-01-02  B          12\n",
       "2023-02-01  B          11\n",
       "2023-02-03  A          12\n",
       "Name: Quantity, dtype: int64"
      ]
     },
     "execution_count": 166,
     "metadata": {},
     "output_type": "execute_result"
    }
   ],
   "source": [
    "y"
   ]
  },
  {
   "cell_type": "markdown",
   "id": "4de8d6f7",
   "metadata": {},
   "source": [
    "5. Group the DataFrame df by the 'Product' column and\n",
    "   add a new column 'Revenue Percentage' that shows the percentage of each product's revenue relative to the total revenue for that product.\n",
    "\n"
   ]
  },
  {
   "cell_type": "code",
   "execution_count": 168,
   "id": "9317d467",
   "metadata": {},
   "outputs": [],
   "source": [
    "x = gbt.groupby('Product')['Revenue'].sum()"
   ]
  },
  {
   "cell_type": "code",
   "execution_count": 169,
   "id": "19a43921",
   "metadata": {},
   "outputs": [],
   "source": [
    "percentage = x / x.sum() * 100"
   ]
  },
  {
   "cell_type": "code",
   "execution_count": 171,
   "id": "1a9fd2ef",
   "metadata": {},
   "outputs": [
    {
     "name": "stdout",
     "output_type": "stream",
     "text": [
      "         Date Product  Revenue  Quantity Month_Year  Month  Year MonthYear  \\\n",
      "0  2023-01-01       A      221         3    2023-01      1  2023   2023-01   \n",
      "1  2023-01-01       B      111         8    2023-01      1  2023   2023-01   \n",
      "2  2023-02-01       B      171        11    2023-02      2  2023   2023-02   \n",
      "3  2023-02-01       A      141        15    2023-02      2  2023   2023-02   \n",
      "4  2023-01-02       A       75         4    2023-01      1  2023   2023-01   \n",
      "5  2023-01-02       B       90        12    2023-01      1  2023   2023-01   \n",
      "6  2023-02-02       A       96        17    2023-02      2  2023   2023-02   \n",
      "7  2023-02-02       B      170        10    2023-02      2  2023   2023-02   \n",
      "8  2023-01-03       B      200        19    2023-01      1  2023   2023-01   \n",
      "9  2023-01-03       A      120        10    2023-01      1  2023   2023-01   \n",
      "10 2023-02-03       A      121        12    2023-02      2  2023   2023-02   \n",
      "11 2023-02-03       B      150         5    2023-02      2  2023   2023-02   \n",
      "\n",
      "    Revenue Percentage  \n",
      "0            46.458583  \n",
      "1            53.541417  \n",
      "2            53.541417  \n",
      "3            46.458583  \n",
      "4            46.458583  \n",
      "5            53.541417  \n",
      "6            46.458583  \n",
      "7            53.541417  \n",
      "8            53.541417  \n",
      "9            46.458583  \n",
      "10           46.458583  \n",
      "11           53.541417  \n"
     ]
    }
   ],
   "source": [
    "gbt['Revenue Percentage'] = gbt['Product'].map(percentage)\n",
    "print(gbt)"
   ]
  },
  {
   "cell_type": "code",
   "execution_count": null,
   "id": "9d6521a0",
   "metadata": {},
   "outputs": [],
   "source": []
  }
 ],
 "metadata": {
  "kernelspec": {
   "display_name": "Python 3 (ipykernel)",
   "language": "python",
   "name": "python3"
  },
  "language_info": {
   "codemirror_mode": {
    "name": "ipython",
    "version": 3
   },
   "file_extension": ".py",
   "mimetype": "text/x-python",
   "name": "python",
   "nbconvert_exporter": "python",
   "pygments_lexer": "ipython3",
   "version": "3.11.5"
  }
 },
 "nbformat": 4,
 "nbformat_minor": 5
}
