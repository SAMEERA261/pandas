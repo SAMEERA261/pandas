{
 "cells": [
  {
   "cell_type": "code",
   "execution_count": 201,
   "id": "3c222bea",
   "metadata": {},
   "outputs": [],
   "source": [
    "import math\n",
    "import pandas as pd \n",
    "import numpy as np \n",
    "from scipy import stats\n",
    "from collections import Counter"
   ]
  },
  {
   "cell_type": "code",
   "execution_count": 202,
   "id": "3566daf3",
   "metadata": {},
   "outputs": [],
   "source": [
    "class StatisticalMeasures: # A class is a blueprint or a template for creating objects.\n",
    "    def __init__(self, file_path):\n",
    "        self.data = self.load_data(file_path)\n",
    "\n",
    "    def load_data(self, file_path):\n",
    "        data = []\n",
    "        with open(file_path, 'r') as file:\n",
    "            # Skip the header row\n",
    "            next(file)#Python’s next() function returns the next item of an iterator.\n",
    "\n",
    "            for line in file:\n",
    "                # Assuming each line contains numerical data separated by commas\n",
    "                row = line.strip().split(',')\n",
    "                try:\n",
    "                    # Try converting values to floats\n",
    "                    row = [float(value) for value in row[:-1]]  # Exclude the last column (non-numeric)\n",
    "                    data.append(row)\n",
    "                except ValueError:\n",
    "                    # Handle non-numeric values (you can skip or handle them differently)\n",
    "                    print(f\"Skipping row with non-numeric values: {row}\")\n",
    "        return data\n",
    "\n",
    "    def calculate_arithmetic_mean(self, column_index):\n",
    "        ''' \n",
    "        By using this 'calculate_arithmetic_mean'  function we can find the arthametic mean,\n",
    "        \n",
    "        by giving the file location firstly and allocating it the variable we have to write it as file.function_name and \n",
    "        \n",
    "        then we have to allocate it with the column_idex in the file on which you want to function the functionality of the function \n",
    "        \n",
    "        in the above function we have give the function name as 'calculate_arithmetic_mean' and the column_index  then we will gwt the output of arthametic mean for the selected inex'''\n",
    "        \n",
    "        if not self.data or column_index >= len(self.data[0]):\n",
    "            return None  # Invalid column index\n",
    "\n",
    "        column_sum = 0\n",
    "        column_count = 0\n",
    "        for row in self.data:\n",
    "            if column_index < len(row):\n",
    "                column_sum += row[column_index]\n",
    "                column_count += 1\n",
    "\n",
    "        return column_sum / column_count if column_count > 0 else None #AM formula sumof observations divided by number of observations\n",
    "    \n",
    "    def calculate_geometric_mean(self, column_index):\n",
    "        if not self.is_valid_column_index(column_index):\n",
    "            return None\n",
    "\n",
    "        column_values = [float(row[column_index]) for row in self.data[1:]]\n",
    "        product_of_values = math.prod(column_values)\n",
    "        geometric_mean = product_of_values ** (1 / len(column_values))\n",
    "        return geometric_mean\n",
    "    \n",
    "    def calculate_harmonic_mean(self, column_index):\n",
    "        if not self.is_valid_column_index(column_index):\n",
    "            return None\n",
    "\n",
    "        column_values = [float(row[column_index]) for row in self.data[1:]]\n",
    "        reciprocal_values = [1 / value for value in column_values]\n",
    "        harmonic_mean = len(column_values) / sum(reciprocal_values)\n",
    "        return harmonic_mean\n",
    "    def is_valid_column_index(self, column_index):\n",
    "        return 0 <= column_index < len(self.data[0])\n",
    "    def calculate_mode(self, column_index):\n",
    "        if not self.is_valid_column_index(column_index):\n",
    "            return None\n",
    "\n",
    "        column_values = [float(row[column_index]) for row in self.data[1:]]\n",
    "        count_values = Counter(column_values)\n",
    "        mode_values = count_values.most_common()\n",
    "        if len(mode_values) > 1 and mode_values[0][1] == mode_values[1][1]:\n",
    "            return None  # no unique mode\n",
    "        mode = mode_values[0][0]\n",
    "        return mode\n",
    "    def calculate_median(self, column_index):\n",
    "        if not self.is_valid_column_index(column_index):\n",
    "            return None\n",
    "\n",
    "        column_values = sorted([float(row[column_index]) for row in self.data[1:]])\n",
    "        n = len(column_values)\n",
    "        if n % 2 == 0:\n",
    "            median = (column_values[n // 2 - 1] + column_values[n // 2]) / 2\n",
    "        else:\n",
    "            median = column_values[n // 2]\n",
    "        return median\n",
    "    def describe(self, column_index):\n",
    "        if not self.is_valid_column_index(column_index):\n",
    "            return None\n",
    "\n",
    "        arithmetic_mean = self.calculate_arithmetic_mean(column_index)\n",
    "        geometric_mean = self.calculate_geometric_mean(column_index)\n",
    "        harmonic_mean = self.calculate_harmonic_mean(column_index)\n",
    "        mode = self.calculate_mode(column_index)\n",
    "        median = self.calculate_median(column_index)\n",
    "\n",
    "        description = {\n",
    "            \"Arithmetic Mean\": arithmetic_mean,\n",
    "            \"Geometric Mean\": geometric_mean,\n",
    "            \"Harmonic Mean\": harmonic_mean,\n",
    "            \"Mode\": mode,\n",
    "            \"Median\": median,\n",
    "        }\n",
    "\n",
    "        return description\n",
    "    \n",
    "    def calculate_variance(self, column_index):\n",
    "        if not self.is_valid_column_index(column_index):\n",
    "            return None\n",
    "\n",
    "        column_values = [float(row[column_index]) for row in self.data[1:]]\n",
    "        mean = self.calculate_arithmetic_mean(column_index)\n",
    "        variance = sum((value - mean) ** 2 for value in column_values) / (len(column_values) - 1)\n",
    "        return variance\n",
    "    def calculate_standard_deviation(self, column_index):\n",
    "        variance = self.calculate_variance(column_index)\n",
    "        standard_deviation = math.sqrt(variance)\n",
    "        return standard_deviation\n",
    "    def find_maximum_value(self, column_index):\n",
    "        if column_index < len(self.data[0]):# Check if column_index is within the range of columns\n",
    "            max_value = float(self.data[1][column_index])\n",
    "\n",
    "            for row in self.data[2:]:\n",
    "                current_value = float(row[column_index])\n",
    "                if current_value > max_value:\n",
    "                    max_value = current_value\n",
    "\n",
    "            return max_value\n",
    "        else:\n",
    "            return None\n",
    "        \n",
    "    def find_minimum_value(self, column_index):\n",
    "        if column_index < len(self.data[0]):\n",
    "            min_value = float(self.data[1][column_index])\n",
    "\n",
    "            for row in self.data[2:]:\n",
    "                current_value = float(row[column_index])\n",
    "                if current_value < min_value:\n",
    "                    min_value = current_value\n",
    "\n",
    "            return min_value\n",
    "        else:\n",
    "            return None\n",
    "    def calculate_range(self, column_index):\n",
    "        if column_index < len(self.data[0]):\n",
    "            column_values = [float(row[column_index]) for row in self.data[1:]]\n",
    "            column_range = max(column_values) - min(column_values)\n",
    "            return column_range\n",
    "        else:\n",
    "            print(\"Invalid column index\")\n",
    "            return None   \n",
    "        \n",
    "   "
   ]
  },
  {
   "cell_type": "code",
   "execution_count": 203,
   "id": "04b998a3",
   "metadata": {},
   "outputs": [],
   "source": [
    "file = StatisticalMeasures( r'C:\\Users\\Sam\\Downloads\\Iris.csv')"
   ]
  },
  {
   "cell_type": "code",
   "execution_count": 189,
   "id": "e764c546",
   "metadata": {},
   "outputs": [
    {
     "data": {
      "text/plain": [
       "3.0540000000000007"
      ]
     },
     "execution_count": 189,
     "metadata": {},
     "output_type": "execute_result"
    }
   ],
   "source": [
    "arithmetic_mean = file.calculate_arithmetic_mean(2)#will be giving the output for the second  index i.e SepalWidthCm AM\n",
    "arithmetic_mean"
   ]
  },
  {
   "cell_type": "code",
   "execution_count": 190,
   "id": "fcb30cf8",
   "metadata": {},
   "outputs": [
    {
     "data": {
      "text/plain": [
       "3.0206144489293694"
      ]
     },
     "execution_count": 190,
     "metadata": {},
     "output_type": "execute_result"
    }
   ],
   "source": [
    "geometric_mean = file.calculate_geometric_mean(2)#will be giving the output for the second  index i.e SepalWidthCm GM\n",
    "geometric_mean"
   ]
  },
  {
   "cell_type": "code",
   "execution_count": 191,
   "id": "c906b33f",
   "metadata": {},
   "outputs": [
    {
     "data": {
      "text/plain": [
       "2.990230489523978"
      ]
     },
     "execution_count": 191,
     "metadata": {},
     "output_type": "execute_result"
    }
   ],
   "source": [
    "harmonic_mean = file.calculate_harmonic_mean(2)#will be giving the output for the second  index i.e SepalWidthCm HM\n",
    "harmonic_mean"
   ]
  },
  {
   "cell_type": "code",
   "execution_count": 192,
   "id": "a63bc847",
   "metadata": {},
   "outputs": [
    {
     "data": {
      "text/plain": [
       "3.0"
      ]
     },
     "execution_count": 192,
     "metadata": {},
     "output_type": "execute_result"
    }
   ],
   "source": [
    "mode=file.calculate_mode(2)\n",
    "mode"
   ]
  },
  {
   "cell_type": "code",
   "execution_count": 193,
   "id": "c2e5c724",
   "metadata": {},
   "outputs": [
    {
     "data": {
      "text/plain": [
       "3.0"
      ]
     },
     "execution_count": 193,
     "metadata": {},
     "output_type": "execute_result"
    }
   ],
   "source": [
    "median=file.calculate_median(2)\n",
    "median"
   ]
  },
  {
   "cell_type": "code",
   "execution_count": 194,
   "id": "f564f78c",
   "metadata": {},
   "outputs": [
    {
     "data": {
      "text/plain": [
       "{'Arithmetic Mean': 3.0540000000000007,\n",
       " 'Geometric Mean': 3.0206144489293694,\n",
       " 'Harmonic Mean': 2.990230489523978,\n",
       " 'Mode': 3.0,\n",
       " 'Median': 3.0}"
      ]
     },
     "execution_count": 194,
     "metadata": {},
     "output_type": "execute_result"
    }
   ],
   "source": [
    "describe_data=file.describe(2)\n",
    "describe_data"
   ]
  },
  {
   "cell_type": "code",
   "execution_count": 195,
   "id": "2ef6ed37",
   "metadata": {},
   "outputs": [
    {
     "data": {
      "text/plain": [
       "0.18793029729729732"
      ]
     },
     "execution_count": 195,
     "metadata": {},
     "output_type": "execute_result"
    }
   ],
   "source": [
    "variance= file.calculate_variance(2)\n",
    "variance"
   ]
  },
  {
   "cell_type": "code",
   "execution_count": 196,
   "id": "07b222dc",
   "metadata": {},
   "outputs": [
    {
     "data": {
      "text/plain": [
       "0.43350928167375763"
      ]
     },
     "execution_count": 196,
     "metadata": {},
     "output_type": "execute_result"
    }
   ],
   "source": [
    "sd=file.calculate_standard_deviation(2)\n",
    "sd"
   ]
  },
  {
   "cell_type": "code",
   "execution_count": 197,
   "id": "c7678409",
   "metadata": {},
   "outputs": [
    {
     "data": {
      "text/plain": [
       "4.4"
      ]
     },
     "execution_count": 197,
     "metadata": {},
     "output_type": "execute_result"
    }
   ],
   "source": [
    "maximum=file.find_maximum_value(2)\n",
    "maximum"
   ]
  },
  {
   "cell_type": "code",
   "execution_count": 198,
   "id": "484c9849",
   "metadata": {},
   "outputs": [
    {
     "data": {
      "text/plain": [
       "2.0"
      ]
     },
     "execution_count": 198,
     "metadata": {},
     "output_type": "execute_result"
    }
   ],
   "source": [
    "minimum=file.find_minimum_value(2)\n",
    "minimum"
   ]
  },
  {
   "cell_type": "code",
   "execution_count": 200,
   "id": "cf7226cb",
   "metadata": {},
   "outputs": [
    {
     "data": {
      "text/plain": [
       "2.4000000000000004"
      ]
     },
     "execution_count": 200,
     "metadata": {},
     "output_type": "execute_result"
    }
   ],
   "source": [
    "range1=file.calculate_range(2)\n",
    "range1"
   ]
  },
  {
   "cell_type": "code",
   "execution_count": null,
   "id": "de2300df",
   "metadata": {},
   "outputs": [],
   "source": []
  },
  {
   "cell_type": "code",
   "execution_count": null,
   "id": "f87cab1d",
   "metadata": {},
   "outputs": [],
   "source": []
  },
  {
   "cell_type": "code",
   "execution_count": null,
   "id": "7f7e70ed",
   "metadata": {},
   "outputs": [],
   "source": []
  }
 ],
 "metadata": {
  "kernelspec": {
   "display_name": "Python 3 (ipykernel)",
   "language": "python",
   "name": "python3"
  },
  "language_info": {
   "codemirror_mode": {
    "name": "ipython",
    "version": 3
   },
   "file_extension": ".py",
   "mimetype": "text/x-python",
   "name": "python",
   "nbconvert_exporter": "python",
   "pygments_lexer": "ipython3",
   "version": "3.11.5"
  }
 },
 "nbformat": 4,
 "nbformat_minor": 5
}
